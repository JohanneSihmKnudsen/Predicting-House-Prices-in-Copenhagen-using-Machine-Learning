{
 "cells": [
  {
   "cell_type": "markdown",
   "metadata": {},
   "source": [
    "## Relative location and zipcode"
   ]
  },
  {
   "cell_type": "code",
   "execution_count": 1,
   "metadata": {},
   "outputs": [
    {
     "name": "stderr",
     "output_type": "stream",
     "text": [
      "/Users/joje/anaconda3/lib/python3.7/site-packages/lightgbm/__init__.py:48: UserWarning: Starting from version 2.2.1, the library file in distribution wheels for macOS is built by the Apple Clang (Xcode_8.3.3) compiler.\n",
      "This means that in case of installing LightGBM from PyPI via the ``pip install lightgbm`` command, you don't need to install the gcc compiler anymore.\n",
      "Instead of that, you need to install the OpenMP library, which is required for running LightGBM on the system with the Apple Clang compiler.\n",
      "You can install the OpenMP library by the following command: ``brew install libomp``.\n",
      "  \"You can install the OpenMP library by the following command: ``brew install libomp``.\", UserWarning)\n"
     ]
    }
   ],
   "source": [
    "import pandas as pd\n",
    "import matplotlib\n",
    "import matplotlib.pyplot as plt\n",
    "#plt.style.use('ggplot')\n",
    "\n",
    "import matplotlib.pyplot as plt\n",
    "#plt.style.use('ggplot')\n",
    "#plt.style.use(u'seaborn-paper')\n",
    "plt.style.use('seaborn-white')\n",
    "font = {'family' : 'normal',\n",
    "        'weight' : 'normal',\n",
    "        'size'   : 26}\n",
    "plt.rc('font', **font)\n",
    "\n",
    "import matplotlib\n",
    "matplotlib.rcParams['mathtext.fontset'] = 'stix'\n",
    "matplotlib.rcParams['font.family'] = 'STIXGeneral'\n",
    "plt.title(r'ABC123 vs $\\mathrm{ABC123}^{123}$')\n",
    "plt.tick_params(labelsize=22)\n",
    "    \n",
    "from cycler import cycler\n",
    "matplotlib.rcParams['axes.prop_cycle'] = cycler(color=['darkblue', 'darkgreen'])\n",
    "\n",
    "import seaborn as sns\n",
    "import numpy as np\n",
    "from numpy import NaN\n",
    "\n",
    "import requests\n",
    "from bs4 import BeautifulSoup as bs\n",
    "from urllib.request import urlopen as uReq\n",
    "import urllib.request\n",
    "import re\n",
    "from re import sub\n",
    "\n",
    "import math\n",
    "import requests \n",
    "import json\n",
    "from scipy.stats import norm\n",
    "from scipy import stats\n",
    "from scipy.stats import skew  \n",
    "\n",
    "from sklearn.model_selection import train_test_split\n",
    "from sklearn import datasets\n",
    "from sklearn.pipeline import make_pipeline\n",
    "from sklearn.neural_network import MLPRegressor\n",
    "from sklearn.preprocessing import PolynomialFeatures, StandardScaler\n",
    "from sklearn.preprocessing import LabelEncoder\n",
    "from sklearn import datasets, linear_model\n",
    "from sklearn.neural_network import MLPClassifier\n",
    "from sklearn.metrics import accuracy_score\n",
    "from sklearn.metrics import mean_squared_error as mse\n",
    "from sklearn.metrics import mean_absolute_error as mae\n",
    "from sklearn.model_selection import cross_val_score, GridSearchCV\n",
    "from sklearn.ensemble import RandomForestRegressor\n",
    "from sklearn.preprocessing import MinMaxScaler\n",
    "\n",
    "from sklearn.model_selection import GridSearchCV\n",
    "from sklearn.model_selection import ShuffleSplit\n",
    "\n",
    "from bs4 import BeautifulSoup\n",
    "from requests import get\n",
    "from pandas import DataFrame\n",
    "from tabulate import tabulate\n",
    "import dtale\n",
    "\n",
    "from selenium import webdriver\n",
    "from selenium.webdriver.chrome.options import Options\n",
    "from selenium import webdriver\n",
    "\n",
    "import itertools\n",
    "from itertools import chain\n",
    "from IPython.core.display import HTML\n",
    "\n",
    "import matplotlib.pyplot as plt\n",
    "from decimal import Decimal\n",
    "import datetime\n",
    "\n",
    "import shapely\n",
    "from shapely.geometry import Point, MultiPoint, Polygon\n",
    "from shapely.ops import nearest_points\n",
    "import geopandas as gpd\n",
    "import descartes\n",
    "import matplotlib.pyplot as plt\n",
    "import shapefile as shp\n",
    "\n",
    "\n",
    "from sklearn.model_selection import cross_validate\n",
    "from sklearn.metrics import recall_score\n",
    "from sklearn.linear_model import Ridge\n",
    "from sklearn.linear_model import Lasso\n",
    "from sklearn.model_selection import GridSearchCV\n",
    "import sklearn\n",
    "import numpy as np\n",
    "from sklearn.model_selection import train_test_split\n",
    "from sklearn.metrics import mean_squared_error\n",
    "from sklearn.metrics import r2_score\n",
    "\n",
    "from sklearn.linear_model import ElasticNet, Lasso,  BayesianRidge, LassoLarsIC\n",
    "from sklearn.linear_model import Ridge, RidgeCV, ElasticNet, LassoCV, LassoLarsCV\n",
    "from sklearn.model_selection import cross_val_score\n",
    "from sklearn.ensemble import RandomForestRegressor,  GradientBoostingRegressor\n",
    "from sklearn.kernel_ridge import KernelRidge\n",
    "from sklearn.pipeline import make_pipeline\n",
    "from sklearn.preprocessing import RobustScaler\n",
    "from sklearn.base import BaseEstimator, TransformerMixin, RegressorMixin, clone\n",
    "from sklearn.model_selection import KFold, cross_val_score, train_test_split\n",
    "from sklearn.metrics import mean_squared_error\n",
    "import xgboost as xgb\n",
    "import lightgbm as lgb\n",
    "from sklearn.linear_model import LinearRegression\n",
    "from sklearn.metrics import accuracy_score\n",
    "from sklearn.tree import DecisionTreeClassifier\n",
    "from sklearn.ensemble import RandomForestRegressor\n",
    "from sklearn.ensemble import RandomForestClassifier,AdaBoostClassifier,GradientBoostingClassifier\n",
    "from sklearn.tree import DecisionTreeRegressor\n",
    "from sklearn.metrics import mean_absolute_error\n",
    "\n",
    "import warnings\n",
    "%matplotlib inline"
   ]
  },
  {
   "cell_type": "code",
   "execution_count": 2,
   "metadata": {},
   "outputs": [],
   "source": [
    "def CV_function(X_train,y_train,X_test,y_test,model,model_params):\n",
    "    clf = GridSearchCV(model, model_params, cv= 10, refit=True, scoring ='neg_mean_squared_error')\n",
    "    clf.fit(X_train, y_train)\n",
    "    clf_best = clf.best_estimator_\n",
    "    y_pred_train = clf_best.predict(X_train)\n",
    "    y_pred = clf_best.predict(X_test)\n",
    "    score = [mean_squared_error(y_test, y_pred), mean_squared_error(y_train, y_pred_train) , r2_score(y_test, y_pred), r2_score(y_train, y_pred_train),]\n",
    "    \n",
    "    \n",
    "    print('MSE, train: %0.5f'%(mean_squared_error(y_train, y_pred_train)))\n",
    "    print('MAE, test: %0.5f'% np.mean(np.absolute(y_pred_train - y_train)))\n",
    "    print('R^2, train: %0.5f'%(score[3]))\n",
    "    \n",
    "\n",
    "    print('MSE, test: %0.5f'%(score[0]))\n",
    "    print('MAE, test: %0.5f'% (np.mean(np.absolute(y_pred - y_test))))\n",
    "    print('R^2, test: %0.5f'%(score[2]))\n",
    "    \n",
    "    #print('Random guess: %f'%(score[0] / (np.var(y_test))))\n",
    "    \n",
    "    if (len(model_params.keys()) == 0) :\n",
    "        return score, y_pred, clf, clf_best\n",
    "    else:\n",
    "    # PLOTTING:\n",
    "        asa=clf.cv_results_\n",
    "        # Make a fake dataset:\n",
    "        height = np.sqrt(asa['mean_test_score']*(-1))\n",
    "        bars = asa['params']\n",
    "        y_pos = np.arange(len(bars))\n",
    "        # Create bars\n",
    "        plt.plot(y_pos, height)\n",
    "        # Create names on the x-axis\n",
    "        plt.xticks(y_pos, bars)\n",
    "        plt.xticks(rotation=90)\n",
    "        # Show graphic\n",
    "        plt.show()\n",
    "        \n",
    "        return score, y_pred, clf, clf_best"
   ]
  },
  {
   "cell_type": "code",
   "execution_count": 3,
   "metadata": {},
   "outputs": [],
   "source": [
    "def y_plot_blue(y_test, y_pred):\n",
    "    f = plt.figure(figsize= (14,6))\n",
    "    \n",
    "    ax = f.add_subplot(121)\n",
    "    ax.scatter((y_test), (y_pred), alpha=0.1, c = 'royalblue')\n",
    "    lineStart = ((y_test)).min()\n",
    "    lineEnd = ((y_test)).max()\n",
    "    plt.plot([lineStart, lineEnd], [lineStart, lineEnd], 'k-', color = 'r', )\n",
    "    plt.xlim(lineStart, lineEnd)\n",
    "    plt.ylim(lineStart, lineEnd)\n",
    "    ax.set_xlabel('True value')\n",
    "    ax.set_ylabel('Predicted value')\n",
    "    \n",
    "    #plt.title('Scatter plot of y_true vs y_pred')\n",
    "\n",
    "    #residual = (y_test) - (y_pred)\n",
    "    #ax = f.add_subplot(122)\n",
    "    #sns.distplot(residual, ax = ax)\n",
    "    #plt.axvline(residual.mean(), color= 'r')\n",
    "    #plt.title('Residual plot')\n",
    "    \n",
    "    ax = f.add_subplot(122)\n",
    "    ax.scatter(np.exp(y_test), np.exp(y_pred), alpha=0.1, c = 'royalblue')\n",
    "    lineStart = (np.exp(y_test)).min()\n",
    "    lineEnd = (np.exp(y_test)).max()\n",
    "    plt.plot([lineStart, lineEnd], [lineStart, lineEnd], 'k-', color = 'r', )\n",
    "    plt.xlim(lineStart, lineEnd)\n",
    "    plt.ylim(lineStart, lineEnd)\n",
    "    ax.set_xlabel('True value')\n",
    "    ax.set_ylabel('Predicted value')\n",
    "    \n",
    "    plt.show()\n",
    "    \n",
    "    \n",
    "def y_plot_coral(y_test, y_pred):\n",
    "    f = plt.figure(figsize= (14,6))\n",
    "    \n",
    "    ax = f.add_subplot(121)\n",
    "    ax.scatter((y_test), (y_pred), alpha=0.1, c = 'lightcoral')\n",
    "    lineStart = ((y_test)).min()\n",
    "    lineEnd = ((y_test)).max()\n",
    "    plt.plot([lineStart, lineEnd], [lineStart, lineEnd], 'k-', color = 'r', )\n",
    "    plt.xlim(lineStart, lineEnd)\n",
    "    plt.ylim(lineStart, lineEnd)\n",
    "    ax.set_xlabel('True value')\n",
    "    ax.set_ylabel('Predicted value')\n",
    "    \n",
    "    #plt.title('Scatter plot of y_true vs y_pred')\n",
    "\n",
    "    #residual = (y_test) - (y_pred)\n",
    "    #ax = f.add_subplot(122)\n",
    "    #sns.distplot(residual, ax = ax)\n",
    "    #plt.axvline(residual.mean(), color= 'r')\n",
    "    #plt.title('Residual plot')\n",
    "    \n",
    "    ax = f.add_subplot(122)\n",
    "    ax.scatter(np.exp(y_test), np.exp(y_pred), alpha=0.1, c = 'lightcoral')\n",
    "    lineStart = (np.exp(y_test)).min()\n",
    "    lineEnd = (np.exp(y_test)).max()\n",
    "    plt.plot([lineStart, lineEnd], [lineStart, lineEnd], 'k-', color = 'r', )\n",
    "    plt.xlim(lineStart, lineEnd)\n",
    "    plt.ylim(lineStart, lineEnd)\n",
    "    ax.set_xlabel('True value')\n",
    "    ax.set_ylabel('Predicted value')\n",
    "    \n",
    "    plt.show()"
   ]
  },
  {
   "cell_type": "code",
   "execution_count": 4,
   "metadata": {},
   "outputs": [],
   "source": [
    "size=16\n",
    "params = {'legend.fontsize': 'large',\n",
    "          'axes.labelsize': size,\n",
    "          'axes.titlesize': size,\n",
    "          'xtick.labelsize': size,\n",
    "          'ytick.labelsize': size,\n",
    "          'axes.titlepad': 25}\n",
    "plt.rcParams.update(params)\n",
    "\n",
    "def y_2plot(y_test, y_train, y_pred, model_best):\n",
    "    f = plt.figure(figsize= (14,6))\n",
    "    \n",
    "    ax = f.add_subplot(121)\n",
    "    ax.scatter((y_train), model_best.predict(X_train), alpha=0.1, c = 'lightcoral')\n",
    "    ax.scatter((y_test), (y_pred), alpha=0.1, c = 'royalblue')\n",
    "\n",
    "    lineStart = ((y_test)).min()\n",
    "    lineEnd = ((y_test)).max()\n",
    "    plt.plot([lineStart, lineEnd], [lineStart, lineEnd], 'k-', color = 'r', )\n",
    "    plt.xlim(lineStart, lineEnd)\n",
    "    plt.ylim(lineStart, lineEnd)\n",
    "    ax.set_xlabel('True value')\n",
    "    ax.set_ylabel('Predicted value')\n",
    "\n",
    "    #plt.title('Scatter plot of y_true vs y_pred')\n",
    "\n",
    "    #residual = (y_test) - (y_pred)\n",
    "    #ax = f.add_subplot(122)\n",
    "    #sns.distplot(residual, ax = ax)\n",
    "    #plt.axvline(residual.mean(), color= 'r')\n",
    "    #plt.title('Residual plot')\n",
    "    \n",
    "    ax = f.add_subplot(122)\n",
    "    ax.scatter(np.exp(y_train), np.exp(model_best.predict(X_train)), alpha=0.1, c = 'lightcoral')\n",
    "    ax.scatter(np.exp(y_test), np.exp(y_pred), alpha=0.1, c='royalblue')\n",
    "    lineStart = (np.exp(y_test)).min()\n",
    "    lineEnd = (np.exp(y_test)).max()\n",
    "    plt.plot([lineStart, lineEnd], [lineStart, lineEnd], 'k-', color = 'r', )\n",
    "    plt.xlim(lineStart, lineEnd)\n",
    "    plt.ylim(lineStart, lineEnd)\n",
    "    ax.set_xlabel('True value')\n",
    "    ax.set_ylabel('Predicted value')\n",
    "\n",
    "    plt.show()"
   ]
  },
  {
   "cell_type": "code",
   "execution_count": 5,
   "metadata": {},
   "outputs": [],
   "source": [
    "def ResidualPlots(y_test, y_pred):\n",
    "    residuals = y_pred - y_test\n",
    "    model_norm_residuals_abs_sqrt=np.sqrt(np.abs(residuals))\n",
    "\n",
    "    plt.figure(figsize = (14, 6))\n",
    "    ax = plt.subplot(1,2,1)\n",
    "    ResponseY = sns.residplot(y_pred, y_test, lowess=True, scatter_kws={'alpha': 0.1}, color = 'royalblue',\n",
    "                              line_kws={'color': 'red', 'lw': 1, 'alpha': 0.8})\n",
    "#    ResponseY.set_title('Response exp(Y)')\n",
    "    ResponseY.set_xlabel('Fitted values')\n",
    "    ResponseY.set_ylabel('Residuals')\n",
    "\n",
    "    ax = plt.subplot(1,2,2)\n",
    "    ResponseY = sns.regplot((y_pred), model_norm_residuals_abs_sqrt, color = 'royalblue', \n",
    "                            scatter_kws={'alpha': 0.1}, lowess=True, line_kws={'color': 'red', 'lw': 1, 'alpha': 0.8})\n",
    "#    ResponseY.set_title('Response Y')\n",
    "    ResponseY.set_xlabel('Fitted values')\n",
    "    ResponseY.set_ylabel('Standarized residuals')\n",
    "    \n",
    "    plt.show()\n",
    "\n",
    "def ResidualPlotsCoral(y_test, y_pred):\n",
    "    residuals = y_pred - y_test\n",
    "    model_norm_residuals_abs_sqrt=np.sqrt(np.abs(residuals))\n",
    "\n",
    "    plt.figure(figsize = (14, 6))\n",
    "    ax = plt.subplot(1,2,1)\n",
    "    ResponseY = sns.residplot(y_pred, y_test, lowess=True, scatter_kws={'alpha': 0.1}, color = 'lightcoral',\n",
    "                              line_kws={'color': 'red', 'lw': 1, 'alpha': 0.8})\n",
    "#    ResponseY.set_title('Response exp(Y)')\n",
    "    ResponseY.set_xlabel('Fitted values')\n",
    "    ResponseY.set_ylabel('Residuals')\n",
    "\n",
    "    ax = plt.subplot(1,2,2)\n",
    "    ResponseY = sns.regplot((y_pred), model_norm_residuals_abs_sqrt, color = 'lightcoral', \n",
    "                            scatter_kws={'alpha': 0.1}, lowess=True, line_kws={'color': 'red', 'lw': 1, 'alpha': 0.8})\n",
    "#    ResponseY.set_title('Response Y')\n",
    "    ResponseY.set_xlabel('Fitted values')\n",
    "    ResponseY.set_ylabel('Standarized residuals')\n",
    "    \n",
    "    plt.show()    \n",
    "\n",
    "    \n",
    "    \n",
    "# Quick\n",
    "def ResidualPlotsQuick(y_test, y_pred):\n",
    "    plt.rcParams['figure.figsize'] = (6.0, 6.0)\n",
    "    preds = pd.DataFrame({\"preds\":np.exp(y_pred), \"true\":np.exp(y_test)})\n",
    "    preds[\"residuals\"] = preds[\"true\"] - preds[\"preds\"]\n",
    "    preds.plot(x = \"preds\", y = \"residuals\",kind = \"scatter\")\n"
   ]
  },
  {
   "cell_type": "code",
   "execution_count": 6,
   "metadata": {},
   "outputs": [],
   "source": [
    "def Residual2Plots(y_test, y_train, y_pred, model_best):\n",
    "    residuals = y_pred - y_test\n",
    "    residualss = y_train - model_best.predict(X_train)\n",
    "    model_norm_residuals_abs_sqrt=np.sqrt(np.abs(residuals))\n",
    "    model_norm_residualss_abs_sqrt=np.sqrt(np.abs(residualss))\n",
    "    \n",
    "    plt.figure(figsize = (14, 6))\n",
    "    ax = plt.subplot(1,2,1)\n",
    "    ResponseY = sns.residplot(y_train, model_best.predict(X_train), lowess=True, color = 'lightcoral', \n",
    "                              scatter_kws={'alpha': 0.1}, \n",
    "                              line_kws={'color': 'crimson', 'lw': 1, 'alpha': 0.8})\n",
    "    ResponseY = sns.residplot(y_pred, y_test, color = 'royalblue', \n",
    "                              scatter_kws={'alpha': 0.1}, lowess=True,\n",
    "                              line_kws={'color': 'darkblue', 'lw': 1, 'alpha': 0.8})    \n",
    "#    ResponseY.set_title('Response exp(Y)')\n",
    "    ResponseY.set_xlabel('Fitted values')\n",
    "    ResponseY.set_ylabel('Residuals')\n",
    "\n",
    "    ax = plt.subplot(1,2,2)\n",
    "    ResponseY = sns.regplot((y_train), model_norm_residualss_abs_sqrt, color = 'lightcoral', \n",
    "                            scatter_kws={'alpha': 0.1}, lowess=True, \n",
    "                            line_kws={'color': 'crimson', 'lw': 1, 'alpha': 0.8})\n",
    "    ResponseY = sns.regplot((y_pred), model_norm_residuals_abs_sqrt, color = 'royalblue', \n",
    "                            scatter_kws={'alpha': 0.1}, lowess=True, \n",
    "                            line_kws={'color': 'darkblue', 'lw': 1, 'alpha': 0.8})\n",
    "#    ResponseY.set_title('Response Y')\n",
    "    ResponseY.set_xlabel('Fitted values')\n",
    "    ResponseY.set_ylabel('Standarized residuals')\n",
    "    \n",
    "    plt.show()\n"
   ]
  },
  {
   "cell_type": "markdown",
   "metadata": {},
   "source": [
    "## Load data"
   ]
  },
  {
   "cell_type": "code",
   "execution_count": 7,
   "metadata": {},
   "outputs": [
    {
     "name": "stdout",
     "output_type": "stream",
     "text": [
      "677\n",
      "0\n",
      "35702 er lig 35702\n",
      "(4504,) (4504, 159)\n",
      "(31198,) (31198, 159)\n"
     ]
    }
   ],
   "source": [
    "\n",
    "df = pd.read_csv('Endeligt data/df_modell.csv')\n",
    "\n",
    "# Split into y and X \n",
    "y_save = df.loc[:, df.columns.isin(['GeomaticAVMPrice', 'AskingPrice', 'TurnoverTime', 'OfferingEnd', 'OfferingStart', 'SaleDate', 'Time', 'ValDate', 'LandValue', 'TaxableValue', 'Type'])]\n",
    "y = df.loc[:, df.columns.isin(['SalePrice'])]\n",
    "X_save = df.loc[:, df.columns.isin(['LinkGeo', 'LinkBoligsiden', 'Address'])]\n",
    "X = df.loc[:, ~df.columns.isin(['SaleDateNum','RadonRisk','LinkGeo', 'LinkBoligsiden', 'Address', 'Lokation', 'Quarter', 'Year','YearQuarter','SalePrice', 'TurnoverTime', 'OfferingEnd', 'OfferingStart', 'SaleDate', 'Time', 'ValDate', 'Latitude', 'Longitude', 'LandValue', 'TaxableValue'])]\n",
    "df = pd.concat([y, X], axis=1)\n",
    "\n",
    "\n",
    "# Do something with Neighbors\n",
    "print(df.Neighbors.isnull().sum())\n",
    "df['Neighbors'] = df['Neighbors'].fillna(0)\n",
    "print(df.Neighbors.isnull().sum())\n",
    "\n",
    "# Any zeros?\n",
    "#print(df.isnull().values.any())\n",
    "#df.dropna(inplace=True)\n",
    "\n",
    "\n",
    "# Splittig into train and test data\n",
    "df['SaleDate'] = pd.to_datetime(y_save['SaleDate'],format='%Y-%m-%d', errors='coerce')\n",
    "#valdate = datetime.datetime(2019, 4, 3)\n",
    "valdate = datetime.datetime(2019, 1, 1)\n",
    "\n",
    "#log transform other targets:\n",
    "#df['SalePrice'] = np.log(df['SalePrice'])\n",
    "df['AskingPrice'] = np.log(y_save['AskingPrice'])\n",
    "df['GeomaticAVMPrice'] = np.log(y_save['GeomaticAVMPrice'])\n",
    "df['OffVurdering'] = np.log(y_save['LandValue'] + y_save['TaxableValue'])\n",
    "df['Type'] = y_save['Type']\n",
    "#df = df[df['SalePrice'].between(df['SalePrice'].quantile(.05), df['SalePrice'].quantile(.95))] # without outliers\n",
    "\n",
    "Test = df[df.SaleDate > valdate]\n",
    "\n",
    "y_test = Test['SalePrice']\n",
    "y_test_askprice = Test['AskingPrice']\n",
    "y_test_AVM = Test['GeomaticAVMPrice']\n",
    "y_test_off = Test['OffVurdering']\n",
    "y_test_type = Test['Type']\n",
    "X_test = Test.drop(columns=['SalePrice', 'AskingPrice', 'GeomaticAVMPrice', 'OffVurdering', 'SaleDate', 'Type'])\n",
    "\n",
    "Train = df[df.SaleDate <= valdate]\n",
    "y_train = Train['SalePrice']\n",
    "y_train_askprice = Train['AskingPrice']\n",
    "X_train = Train.drop(columns=['SalePrice', 'AskingPrice', 'GeomaticAVMPrice', 'OffVurdering', 'SaleDate', 'Type'])\n",
    "\n",
    "print( str(Train.shape[0]+ Test.shape[0]) + ' er lig ' + str(len(df)))\n",
    "\n",
    "print(y_test.shape, X_test.shape)\n",
    "print(y_train.shape, X_train.shape)"
   ]
  },
  {
   "cell_type": "code",
   "execution_count": 8,
   "metadata": {},
   "outputs": [
    {
     "data": {
      "text/html": [
       "\n",
       "        <iframe\n",
       "            width=\"100%\"\n",
       "            height=\"350\"\n",
       "            src=\"http://LCT.local:40002/dtale/iframe/1\"\n",
       "            frameborder=\"0\"\n",
       "            allowfullscreen\n",
       "        ></iframe>\n",
       "        "
      ],
      "text/plain": [
       "<IPython.lib.display.IFrame at 0x7f83abcbdba8>"
      ]
     },
     "metadata": {},
     "output_type": "display_data"
    },
    {
     "data": {
      "text/plain": []
     },
     "execution_count": 8,
     "metadata": {},
     "output_type": "execute_result"
    }
   ],
   "source": [
    "dtale.show(X_train, ignore_duplicate=True)"
   ]
  },
  {
   "cell_type": "code",
   "execution_count": 9,
   "metadata": {},
   "outputs": [
    {
     "name": "stdout",
     "output_type": "stream",
     "text": [
      "159\n",
      "78\n",
      "81\n",
      "118\n",
      "100\n",
      "137\n",
      "140\n",
      "59\n"
     ]
    }
   ],
   "source": [
    "VoteDistrict_cols = [col for col in df if col.startswith('VoteDistrict')]\n",
    "ZipCode_cols = [col for col in df if col.startswith('ZipCode_range')]\n",
    "Relloc_cols = df.iloc[:, 16:35].columns.values.tolist()\n",
    "\n",
    "# Full model\n",
    "X_train_All = X_train\n",
    "X_test_All = X_test\n",
    "print(X_test_All.shape[1])\n",
    "\n",
    "\n",
    "# Only Relloc\n",
    "X_train_Relloc = X_train.drop(columns=(ZipCode_cols + VoteDistrict_cols))\n",
    "X_test_Relloc = X_test.drop(columns=(ZipCode_cols + VoteDistrict_cols))\n",
    "print(X_test_Relloc.shape[1])\n",
    "\n",
    "# Only Zipcode\n",
    "X_train_ZipCode = X_train.drop(columns=(VoteDistrict_cols + Relloc_cols))\n",
    "X_test_ZipCode = X_test.drop(columns=(VoteDistrict_cols + Relloc_cols))\n",
    "print(X_test_ZipCode.shape[1])\n",
    "\n",
    "# Only Votedistrict\n",
    "X_train_VoteDistrict = X_train.drop(columns=(Relloc_cols + ZipCode_cols))\n",
    "X_test_VoteDistrict = X_test.drop(columns=(Relloc_cols + ZipCode_cols))\n",
    "print(X_test_VoteDistrict.shape[1])\n",
    "\n",
    "# ZipCode and Relloc\n",
    "X_train_ZipCode_Relloc = X_train.drop(columns=(VoteDistrict_cols))\n",
    "X_test_ZipCode_Relloc = X_test.drop(columns=(VoteDistrict_cols))\n",
    "print(X_test_ZipCode_Relloc.shape[1])\n",
    "\n",
    "# Relloc and Votedistrict\n",
    "X_train_Relloc_VoteDistrict = X_train.drop(columns=(ZipCode_cols))\n",
    "X_test_Relloc_VoteDistrict = X_test.drop(columns=(ZipCode_cols))\n",
    "print(X_test_Relloc_VoteDistrict.shape[1])\n",
    "\n",
    "# ZipCode and Votedistrict\n",
    "X_train_ZipCode_VoteDistrict = X_train.drop(columns=(Relloc_cols))\n",
    "X_test_ZipCode_VoteDistrict = X_test.drop(columns=(Relloc_cols))\n",
    "print(X_test_ZipCode_VoteDistrict.shape[1])\n",
    "\n",
    "# No one \n",
    "X_train_no = X_train.drop(columns=(ZipCode_cols + VoteDistrict_cols + Relloc_cols))\n",
    "X_test_no = X_test.drop(columns=(ZipCode_cols + VoteDistrict_cols + Relloc_cols))\n",
    "print(X_test_no.shape[1])\n"
   ]
  },
  {
   "cell_type": "code",
   "execution_count": 10,
   "metadata": {},
   "outputs": [
    {
     "name": "stdout",
     "output_type": "stream",
     "text": [
      "59 22 19\n"
     ]
    }
   ],
   "source": [
    "print(len(VoteDistrict_cols), len(ZipCode_cols), len(Relloc_cols))"
   ]
  },
  {
   "cell_type": "markdown",
   "metadata": {},
   "source": [
    "### Full model"
   ]
  },
  {
   "cell_type": "code",
   "execution_count": 11,
   "metadata": {},
   "outputs": [
    {
     "name": "stdout",
     "output_type": "stream",
     "text": [
      "MSE, train: 0.05219\n",
      "MAE, test: 0.15348\n",
      "R^2, train: 0.82132\n",
      "MSE, test: 0.07243\n",
      "MAE, test: 0.17461\n",
      "R^2, test: 0.73781\n"
     ]
    }
   ],
   "source": [
    "model = linear_model.LinearRegression()\n",
    "model_params = {}\n",
    "\n",
    "score_OLS_All, y_OLS_All, model_OLS_All, model_best_OLS_All = CV_function(X_train_All,y_train,X_test_All,y_test,model,model_params)\n"
   ]
  },
  {
   "cell_type": "code",
   "execution_count": 12,
   "metadata": {},
   "outputs": [
    {
     "data": {
      "text/plain": [
       "[0.07243379124834355,\n",
       " 0.052190169410441516,\n",
       " 0.7378071726591826,\n",
       " 0.8213207599603631]"
      ]
     },
     "execution_count": 12,
     "metadata": {},
     "output_type": "execute_result"
    }
   ],
   "source": [
    "score_OLS_All"
   ]
  },
  {
   "cell_type": "markdown",
   "metadata": {},
   "source": [
    "### Only relloc\n"
   ]
  },
  {
   "cell_type": "code",
   "execution_count": 13,
   "metadata": {},
   "outputs": [
    {
     "name": "stdout",
     "output_type": "stream",
     "text": [
      "MSE, train: 0.05305\n",
      "MAE, test: 0.15536\n",
      "R^2, train: 0.81836\n",
      "MSE, test: 0.07284\n",
      "MAE, test: 0.17600\n",
      "R^2, test: 0.73634\n"
     ]
    }
   ],
   "source": [
    "model = linear_model.LinearRegression()\n",
    "model_params = {}\n",
    "\n",
    "score_Relloc, y_OLS_Relloc, model_OLS_Relloc, model_best_OLS_Relloc = CV_function(X_train_Relloc,y_train,X_test_Relloc,y_test,model,model_params)\n"
   ]
  },
  {
   "cell_type": "markdown",
   "metadata": {},
   "source": [
    "### Only ZipCode\n"
   ]
  },
  {
   "cell_type": "code",
   "execution_count": 14,
   "metadata": {},
   "outputs": [
    {
     "name": "stdout",
     "output_type": "stream",
     "text": [
      "MSE, train: 0.05392\n",
      "MAE, test: 0.15715\n",
      "R^2, train: 0.81540\n",
      "MSE, test: 0.07372\n",
      "MAE, test: 0.17797\n",
      "R^2, test: 0.73316\n"
     ]
    }
   ],
   "source": [
    "model = linear_model.LinearRegression()\n",
    "model_params = {}\n",
    "\n",
    "score_ZipCode, y_OLS_ZipCode, model_OLS_ZipCode, model_best_OLS_ZipCode = CV_function(X_train_ZipCode,y_train, X_test_ZipCode,y_test,model,model_params)\n"
   ]
  },
  {
   "cell_type": "markdown",
   "metadata": {},
   "source": [
    "### Only Votedistrict"
   ]
  },
  {
   "cell_type": "code",
   "execution_count": 15,
   "metadata": {},
   "outputs": [
    {
     "name": "stdout",
     "output_type": "stream",
     "text": [
      "MSE, train: 0.05318\n",
      "MAE, test: 0.15559\n",
      "R^2, train: 0.81794\n",
      "MSE, test: 0.07280\n",
      "MAE, test: 0.17605\n",
      "R^2, test: 0.73647\n"
     ]
    }
   ],
   "source": [
    "model = linear_model.LinearRegression()\n",
    "model_params = {}\n",
    "\n",
    "score_VoteDistrict, y_OLS_VoteDistrict, model_OLS_VoteDistrict, model_best_City_VoteDistrict = CV_function(X_train_VoteDistrict,y_train,X_test_VoteDistrict,y_test,model,model_params)\n"
   ]
  },
  {
   "cell_type": "markdown",
   "metadata": {},
   "source": [
    "### ZipCode and Relloc"
   ]
  },
  {
   "cell_type": "code",
   "execution_count": 16,
   "metadata": {},
   "outputs": [
    {
     "name": "stdout",
     "output_type": "stream",
     "text": [
      "MSE, train: 0.05272\n",
      "MAE, test: 0.15468\n",
      "R^2, train: 0.81949\n",
      "MSE, test: 0.07286\n",
      "MAE, test: 0.17586\n",
      "R^2, test: 0.73627\n"
     ]
    }
   ],
   "source": [
    "model = linear_model.LinearRegression()\n",
    "model_params = {}\n",
    "\n",
    "score_ZipCode_Relloc, y_OLS_ZipCode_Relloc, model_OLS_ZipCode_Relloc, model_best_OLS_ZipCode_Relloc = CV_function(X_train_ZipCode_Relloc,y_train,X_test_ZipCode_Relloc,y_test,model,model_params)\n"
   ]
  },
  {
   "cell_type": "markdown",
   "metadata": {},
   "source": [
    "### Relloc and votedistrict"
   ]
  },
  {
   "cell_type": "code",
   "execution_count": 17,
   "metadata": {},
   "outputs": [
    {
     "name": "stdout",
     "output_type": "stream",
     "text": [
      "MSE, train: 0.05227\n",
      "MAE, test: 0.15368\n",
      "R^2, train: 0.82104\n",
      "MSE, test: 0.07244\n",
      "MAE, test: 0.17462\n",
      "R^2, test: 0.73777\n"
     ]
    }
   ],
   "source": [
    "model = linear_model.LinearRegression()\n",
    "model_params = {}\n",
    "\n",
    "score_Relloc_VoteDistrict, y_OLS_Relloc_VoteDistrict, model_OLS_Relloc_VoteDistrict, model_best_OLS_Relloc_VoteDistrict = CV_function(X_train_Relloc_VoteDistrict,y_train,X_test_Relloc_VoteDistrict,y_test,model,model_params)\n"
   ]
  },
  {
   "cell_type": "markdown",
   "metadata": {},
   "source": [
    "### ZipCode and votedistrict\n"
   ]
  },
  {
   "cell_type": "code",
   "execution_count": 18,
   "metadata": {},
   "outputs": [
    {
     "name": "stdout",
     "output_type": "stream",
     "text": [
      "MSE, train: 0.05299\n",
      "MAE, test: 0.15501\n",
      "R^2, train: 0.81859\n",
      "MSE, test: 0.07293\n",
      "MAE, test: 0.17628\n",
      "R^2, test: 0.73601\n"
     ]
    }
   ],
   "source": [
    "model = linear_model.LinearRegression()\n",
    "model_params = {}\n",
    "\n",
    "score_ZipCode_VoteDistrict, y_OLS_ZipCode_VoteDistrict, model_OLS_ZipCode_VoteDistrict, model_best_OLS_ZipCode_VoteDistrict = CV_function(X_train_ZipCode_VoteDistrict,y_train,X_test_ZipCode_VoteDistrict,y_test,model,model_params)\n"
   ]
  },
  {
   "cell_type": "markdown",
   "metadata": {},
   "source": [
    "### No one"
   ]
  },
  {
   "cell_type": "code",
   "execution_count": 19,
   "metadata": {},
   "outputs": [
    {
     "name": "stdout",
     "output_type": "stream",
     "text": [
      "MSE, train: 0.05477\n",
      "MAE, test: 0.15886\n",
      "R^2, train: 0.81249\n",
      "MSE, test: 0.07345\n",
      "MAE, test: 0.17905\n",
      "R^2, test: 0.73412\n"
     ]
    }
   ],
   "source": [
    "model = linear_model.LinearRegression()\n",
    "model_params = {}\n",
    "\n",
    "score_no, y_OLS_no, model_OLS_no, model_best_OLS_no = CV_function(X_train_no,y_train,X_test_no,y_test,model,model_params)\n"
   ]
  },
  {
   "cell_type": "code",
   "execution_count": 20,
   "metadata": {},
   "outputs": [
    {
     "data": {
      "text/html": [
       "<div>\n",
       "<style scoped>\n",
       "    .dataframe tbody tr th:only-of-type {\n",
       "        vertical-align: middle;\n",
       "    }\n",
       "\n",
       "    .dataframe tbody tr th {\n",
       "        vertical-align: top;\n",
       "    }\n",
       "\n",
       "    .dataframe thead th {\n",
       "        text-align: right;\n",
       "    }\n",
       "</style>\n",
       "<table border=\"1\" class=\"dataframe\">\n",
       "  <thead>\n",
       "    <tr style=\"text-align: right;\">\n",
       "      <th></th>\n",
       "      <th>MSE (test)</th>\n",
       "      <th>MSE (train)</th>\n",
       "      <th>$R^2$ (test)</th>\n",
       "      <th>$R^2$ (train)</th>\n",
       "      <th>Number of features</th>\n",
       "    </tr>\n",
       "  </thead>\n",
       "  <tbody>\n",
       "    <tr>\n",
       "      <th>M1: Full model</th>\n",
       "      <td>0.072434</td>\n",
       "      <td>0.052190</td>\n",
       "      <td>0.737807</td>\n",
       "      <td>0.821321</td>\n",
       "      <td>159</td>\n",
       "    </tr>\n",
       "    <tr>\n",
       "      <th>M2: Only ZipCode</th>\n",
       "      <td>0.073718</td>\n",
       "      <td>0.053918</td>\n",
       "      <td>0.733158</td>\n",
       "      <td>0.815404</td>\n",
       "      <td>81</td>\n",
       "    </tr>\n",
       "    <tr>\n",
       "      <th>M3: Only Relloc</th>\n",
       "      <td>0.072840</td>\n",
       "      <td>0.053055</td>\n",
       "      <td>0.736338</td>\n",
       "      <td>0.818360</td>\n",
       "      <td>78</td>\n",
       "    </tr>\n",
       "    <tr>\n",
       "      <th>M4: Only VoteDistrict</th>\n",
       "      <td>0.072803</td>\n",
       "      <td>0.053178</td>\n",
       "      <td>0.736469</td>\n",
       "      <td>0.817938</td>\n",
       "      <td>118</td>\n",
       "    </tr>\n",
       "    <tr>\n",
       "      <th>M5: Only ZipCode and Relloc</th>\n",
       "      <td>0.072859</td>\n",
       "      <td>0.052724</td>\n",
       "      <td>0.736267</td>\n",
       "      <td>0.819494</td>\n",
       "      <td>100</td>\n",
       "    </tr>\n",
       "    <tr>\n",
       "      <th>M6: Only Relloc and VoteDistrict</th>\n",
       "      <td>0.072444</td>\n",
       "      <td>0.052274</td>\n",
       "      <td>0.737769</td>\n",
       "      <td>0.821035</td>\n",
       "      <td>137</td>\n",
       "    </tr>\n",
       "    <tr>\n",
       "      <th>M7: Only ZipCode and Votedistrict</th>\n",
       "      <td>0.072930</td>\n",
       "      <td>0.052987</td>\n",
       "      <td>0.736011</td>\n",
       "      <td>0.818593</td>\n",
       "      <td>140</td>\n",
       "    </tr>\n",
       "    <tr>\n",
       "      <th>M8: Without ZipCode, Relloc and Votedistrict</th>\n",
       "      <td>0.073453</td>\n",
       "      <td>0.054768</td>\n",
       "      <td>0.734117</td>\n",
       "      <td>0.812494</td>\n",
       "      <td>59</td>\n",
       "    </tr>\n",
       "  </tbody>\n",
       "</table>\n",
       "</div>"
      ],
      "text/plain": [
       "                                              MSE (test)  MSE (train)  \\\n",
       "M1: Full model                                  0.072434     0.052190   \n",
       "M2: Only ZipCode                                0.073718     0.053918   \n",
       "M3: Only Relloc                                 0.072840     0.053055   \n",
       "M4: Only VoteDistrict                           0.072803     0.053178   \n",
       "M5: Only ZipCode and Relloc                     0.072859     0.052724   \n",
       "M6: Only Relloc and VoteDistrict                0.072444     0.052274   \n",
       "M7: Only ZipCode and Votedistrict               0.072930     0.052987   \n",
       "M8: Without ZipCode, Relloc and Votedistrict    0.073453     0.054768   \n",
       "\n",
       "                                              $R^2$ (test)  $R^2$ (train)  \\\n",
       "M1: Full model                                    0.737807       0.821321   \n",
       "M2: Only ZipCode                                  0.733158       0.815404   \n",
       "M3: Only Relloc                                   0.736338       0.818360   \n",
       "M4: Only VoteDistrict                             0.736469       0.817938   \n",
       "M5: Only ZipCode and Relloc                       0.736267       0.819494   \n",
       "M6: Only Relloc and VoteDistrict                  0.737769       0.821035   \n",
       "M7: Only ZipCode and Votedistrict                 0.736011       0.818593   \n",
       "M8: Without ZipCode, Relloc and Votedistrict      0.734117       0.812494   \n",
       "\n",
       "                                              Number of features  \n",
       "M1: Full model                                               159  \n",
       "M2: Only ZipCode                                              81  \n",
       "M3: Only Relloc                                               78  \n",
       "M4: Only VoteDistrict                                        118  \n",
       "M5: Only ZipCode and Relloc                                  100  \n",
       "M6: Only Relloc and VoteDistrict                             137  \n",
       "M7: Only ZipCode and Votedistrict                            140  \n",
       "M8: Without ZipCode, Relloc and Votedistrict                  59  "
      ]
     },
     "execution_count": 20,
     "metadata": {},
     "output_type": "execute_result"
    }
   ],
   "source": [
    "data = {'M1: Full model':   [score_OLS_All[0],     score_OLS_All[1],    score_OLS_All[2],    score_OLS_All[3], X_test_All.shape[1]],\n",
    "        #'Full model minus ZipCode':   [score_OLS_All_minusZip[0],     (score_OLS_All_minusZip[1]),    score_OLS_All_minusZip[2],    score_OLS_All_minusZip[1], X_test_All_minusZip.shape[1]],\n",
    "        'M2: Only ZipCode':   [score_ZipCode[0],     (score_ZipCode[1]),    score_ZipCode[2],    score_ZipCode[3], X_test_ZipCode.shape[1]],\n",
    "        'M3: Only Relloc':   [score_Relloc[0],     (score_Relloc[1]),    score_Relloc[2],    score_Relloc[3], X_test_Relloc.shape[1]],\n",
    "        'M4: Only VoteDistrict':   [score_VoteDistrict[0],  (score_VoteDistrict[1]),    score_VoteDistrict[2],    score_VoteDistrict[3], X_test_VoteDistrict.shape[1]],\n",
    "        'M5: Only ZipCode and Relloc' :   [score_ZipCode_Relloc[0],     (score_ZipCode_Relloc[1]),    score_ZipCode_Relloc[2],    score_ZipCode_Relloc[3], X_test_ZipCode_Relloc.shape[1]],\n",
    "        'M6: Only Relloc and VoteDistrict':   [score_Relloc_VoteDistrict[0],     (score_Relloc_VoteDistrict[1]),    score_Relloc_VoteDistrict[2],    score_Relloc_VoteDistrict[3], X_test_Relloc_VoteDistrict.shape[1]],\n",
    "        'M7: Only ZipCode and Votedistrict' :   [score_ZipCode_VoteDistrict[0],     (score_ZipCode_VoteDistrict[1]),    score_ZipCode_VoteDistrict[2],    score_ZipCode_VoteDistrict[3], X_test_ZipCode_VoteDistrict.shape[1]],\n",
    "        'M8: Without ZipCode, Relloc and Votedistrict' :   [score_no[0],     (score_no[1]),    score_no[2],    score_no[3], X_test_no.shape[1]],}\n",
    "\n",
    "overview = pd.DataFrame.from_dict(data, \n",
    "                                  orient='index', \n",
    "                                  columns=['MSE (test)', 'MSE (train)', '$R^2$ (test)', '$R^2$ (train)', 'Number of features'])\n",
    "\n",
    "\n",
    "overvieww = overview.drop(['$R^2$ (test)', '$R^2$ (train)'], axis=1)\n",
    "\n",
    "overview"
   ]
  },
  {
   "cell_type": "markdown",
   "metadata": {},
   "source": [
    "We stick with M1"
   ]
  },
  {
   "cell_type": "code",
   "execution_count": 21,
   "metadata": {},
   "outputs": [
    {
     "name": "stdout",
     "output_type": "stream",
     "text": [
      "\\begin{tabular}{lrrr}\n",
      "\\toprule\n",
      "{} &  MSE (test) &  MSE (train) &  Number of features \\\\\n",
      "\\midrule\n",
      "M1: Full model                               &     0.07243 &      0.05219 &                 159 \\\\\n",
      "M2: Only ZipCode                             &     0.07372 &      0.05392 &                  81 \\\\\n",
      "M3: Only Relloc                              &     0.07284 &      0.05305 &                  78 \\\\\n",
      "M4: Only VoteDistrict                        &     0.07280 &      0.05318 &                 118 \\\\\n",
      "M5: Only ZipCode and Relloc                  &     0.07286 &      0.05272 &                 100 \\\\\n",
      "M6: Only Relloc and VoteDistrict             &     0.07244 &      0.05227 &                 137 \\\\\n",
      "M7: Only ZipCode and Votedistrict            &     0.07293 &      0.05299 &                 140 \\\\\n",
      "M8: Without ZipCode, Relloc and Votedistrict &     0.07345 &      0.05477 &                  59 \\\\\n",
      "\\bottomrule\n",
      "\\end{tabular}\n",
      "\n",
      "\\begin{tabular}{lrrrrr}\n",
      "\\toprule\n",
      "{} &  MSE (test) &  MSE (train) &  \\$R\\textasciicircum 2\\$ (test) &  \\$R\\textasciicircum 2\\$ (train) &  Number of features \\\\\n",
      "\\midrule\n",
      "M1: Full model                               &     0.07243 &      0.05219 &       0.73781 &        0.82132 &                 159 \\\\\n",
      "M2: Only ZipCode                             &     0.07372 &      0.05392 &       0.73316 &        0.81540 &                  81 \\\\\n",
      "M3: Only Relloc                              &     0.07284 &      0.05305 &       0.73634 &        0.81836 &                  78 \\\\\n",
      "M4: Only VoteDistrict                        &     0.07280 &      0.05318 &       0.73647 &        0.81794 &                 118 \\\\\n",
      "M5: Only ZipCode and Relloc                  &     0.07286 &      0.05272 &       0.73627 &        0.81949 &                 100 \\\\\n",
      "M6: Only Relloc and VoteDistrict             &     0.07244 &      0.05227 &       0.73777 &        0.82104 &                 137 \\\\\n",
      "M7: Only ZipCode and Votedistrict            &     0.07293 &      0.05299 &       0.73601 &        0.81859 &                 140 \\\\\n",
      "M8: Without ZipCode, Relloc and Votedistrict &     0.07345 &      0.05477 &       0.73412 &        0.81249 &                  59 \\\\\n",
      "\\bottomrule\n",
      "\\end{tabular}\n",
      "\n"
     ]
    }
   ],
   "source": [
    "print(overvieww.to_latex(float_format=lambda x: '%.5f' % x, index=True))  \n",
    "print(overview.to_latex(float_format=lambda x: '%.5f' % x, index=True))  \n"
   ]
  },
  {
   "cell_type": "code",
   "execution_count": null,
   "metadata": {},
   "outputs": [],
   "source": []
  }
 ],
 "metadata": {
  "kernelspec": {
   "display_name": "Python 3",
   "language": "python",
   "name": "python3"
  },
  "language_info": {
   "codemirror_mode": {
    "name": "ipython",
    "version": 3
   },
   "file_extension": ".py",
   "mimetype": "text/x-python",
   "name": "python",
   "nbconvert_exporter": "python",
   "pygments_lexer": "ipython3",
   "version": "3.7.3"
  }
 },
 "nbformat": 4,
 "nbformat_minor": 2
}
